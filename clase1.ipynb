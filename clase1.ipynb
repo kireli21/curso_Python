{
  "nbformat": 4,
  "nbformat_minor": 0,
  "metadata": {
    "colab": {
      "name": "clase1",
      "provenance": [],
      "collapsed_sections": [],
      "authorship_tag": "ABX9TyN6IA5RWDnIzab/e8kVRnKz",
      "include_colab_link": true
    },
    "kernelspec": {
      "name": "python3",
      "display_name": "Python 3"
    },
    "language_info": {
      "name": "python"
    }
  },
  "cells": [
    {
      "cell_type": "markdown",
      "metadata": {
        "id": "view-in-github",
        "colab_type": "text"
      },
      "source": [
        "<a href=\"https://colab.research.google.com/github/kireli21/curso_Python/blob/main/clase1.ipynb\" target=\"_parent\"><img src=\"https://colab.research.google.com/assets/colab-badge.svg\" alt=\"Open In Colab\"/></a>"
      ]
    },
    {
      "cell_type": "code",
      "execution_count": null,
      "metadata": {
        "id": "DH79XMXGVMJ4"
      },
      "outputs": [],
      "source": [
        "print(\"Hola mundo\")\n",
        "2+2\n",
        "a= 3\n",
        "a*5\n",
        "3**2\n",
        "\"Hola mundo \"*3\n",
        "a= \"hola\"\n",
        "a\n",
        "a=3.2\n",
        "a\n",
        "a=5\n",
        "a/2\n",
        "a = 1\n",
        "(a/2)*10\n",
        "type(a)\n",
        "a = \"Holis\"\n",
        "type(a)\n",
        "a = 3 + 2j\n",
        "type(a)\n",
        "a=3>2\n",
        "type(a)\n",
        "323**25\n",
        "23658**145\n"
      ]
    },
    {
      "cell_type": "code",
      "source": [
        "suma = 0\n",
        "for c in range(10):\n",
        "  suma = suma+c\n",
        "  print(suma)\n",
        "\n",
        "print(\"  \")\n",
        "print(suma)\n",
        "print(\"  \")\n",
        "\n",
        "for b in range(100, 121, 2):\n",
        "  print(b)\n",
        "\n",
        "print(\"  \")\n",
        "\n",
        "for a in range(120, 99, -2):\n",
        "  print(a)\n",
        "\n",
        "print(\"  \")\n",
        "\n",
        "for c in \"Aragon\":\n",
        "  print(c)"
      ],
      "metadata": {
        "id": "SXK_7H-GaUpx"
      },
      "execution_count": null,
      "outputs": []
    },
    {
      "cell_type": "code",
      "source": [
        "#Arreglos\n",
        "a = [1,2,3,4,5,6,8,9,10,12,13,14]\n",
        "for e in a:\n",
        "  print(e)\n",
        "\n",
        "print(\"  \")\n",
        "\n",
        "b = [1,2,0.23,\"hola\",4]\n",
        "for f in b:\n",
        "  print(f, type(f))\n",
        "len(b)\n",
        "\n",
        "print(\"   \")\n",
        "\n",
        "c = [0,1,2,3,4,5,6,7,8,9,10,11,12,13,14,15,16,17,18,19,20]\n",
        "c[15]\n",
        "c[0]\n",
        "c[-1]\n",
        "c[-20]\n",
        "c[5:11]\n",
        "c[5:12:2]\n",
        "c[:12]\n",
        "c[6:]\n",
        "c[:]\n",
        "c[10:4:-1]\n",
        "c[::-1]\n",
        "\n"
      ],
      "metadata": {
        "id": "NIY14WWVgOre"
      },
      "execution_count": null,
      "outputs": []
    },
    {
      "cell_type": "code",
      "source": [
        "#Arreglos bidimensionales\n",
        "m = \"hola\"\n",
        "print(m.capitalize())\n",
        "print(m.upper())\n",
        "print(m.split())\n",
        "\n",
        "d = m.split()\n",
        "d\n",
        "m[0]\n",
        "d[0][0]\n",
        "\n",
        "a = [1,2,\"Aragon\",3.4,5]\n",
        "a[0]\n",
        "a[2][0]\n",
        "\n",
        "a.append(50)\n",
        "a.append(60)\n",
        "a.insert(3, 70)\n",
        "a.remove(5)\n",
        "\n",
        "a\n"
      ],
      "metadata": {
        "colab": {
          "base_uri": "https://localhost:8080/"
        },
        "id": "RirhSmz5tyLY",
        "outputId": "a7528aa4-a725-43e2-bd2b-3831003d2f1a"
      },
      "execution_count": 76,
      "outputs": [
        {
          "output_type": "stream",
          "name": "stdout",
          "text": [
            "Hola\n",
            "HOLA\n",
            "['hola']\n"
          ]
        },
        {
          "output_type": "execute_result",
          "data": {
            "text/plain": [
              "[1, 2, 'Aragon', 70, 3.4, 50, 60]"
            ]
          },
          "metadata": {},
          "execution_count": 76
        }
      ]
    }
  ]
}