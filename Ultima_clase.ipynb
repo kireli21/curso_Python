{
  "nbformat": 4,
  "nbformat_minor": 0,
  "metadata": {
    "colab": {
      "name": "Ultima_clase",
      "provenance": [],
      "authorship_tag": "ABX9TyO3+1eQBRC98H82vzUmxYJr",
      "include_colab_link": true
    },
    "kernelspec": {
      "name": "python3",
      "display_name": "Python 3"
    },
    "language_info": {
      "name": "python"
    }
  },
  "cells": [
    {
      "cell_type": "markdown",
      "metadata": {
        "id": "view-in-github",
        "colab_type": "text"
      },
      "source": [
        "<a href=\"https://colab.research.google.com/github/kireli21/curso_Python/blob/main/Ultima_clase.ipynb\" target=\"_parent\"><img src=\"https://colab.research.google.com/assets/colab-badge.svg\" alt=\"Open In Colab\"/></a>"
      ]
    },
    {
      "cell_type": "code",
      "execution_count": null,
      "metadata": {
        "id": "fSc-suV9zTv0"
      },
      "outputs": [],
      "source": [
        "#piedra papel y tijeras\n",
        "import random\n",
        "\n",
        "opciones = [\"Piedra\", \"Papel\", \"Tijeras\"]\n",
        "print(\"Piedra= 0, Papel= 1, Tijeras= 2\")\n",
        "jugador = int(input(\"Elige una opcion: \"))\n",
        "compu = random.randint(0,2)\n",
        "print(\"jugador:\", opciones[jugador], \"Compu:\", opciones[compu])\n",
        "\n",
        "if (jugador == 0) :\n",
        "  if (compu == 0):\n",
        "    print(\"Empate\")\n",
        "  elif (compu == 1):\n",
        "    print(\"La computadora gana\")\n",
        "  else:\n",
        "    print(\"El jugador gana\")\n",
        "elif (jugador == 1):\n",
        "  if (compu == 0):\n",
        "    print(\"El jugador gana\")\n",
        "  elif (compu == 1):\n",
        "    print(\"Empate\")\n",
        "  else:\n",
        "    print(\"La computadora gana\")\n",
        "else:\n",
        "  if (compu == 0):\n",
        "    print(\"La computadora gana\")\n",
        "  elif (compu == 1):\n",
        "    print(\"El jugador gana\")\n",
        "  else:\n",
        "    print(\"Empate\")\n"
      ]
    },
    {
      "cell_type": "code",
      "source": [
        "# Piedra papel y tijeras de big bang teory\n",
        "import random\n",
        "\n",
        "opciones = [\"Piedra\",\"Tijeras\",\"Lagarto\",\"Papel\",\"Spock\"]\n",
        "print(\"Piedra= 0, Tijeras= 1, Lagarto= 2, Papel= 3, Spock=4\")\n",
        "jugador = int(input(\"Elige una opcion: \"))\n",
        "compu = random.randint(0,4)\n",
        "print(\"jugador:\", opciones[jugador], \"Compu:\", opciones[compu])\n",
        "\n",
        "resultado = (compu - jugador)%5\n",
        "\n",
        "if (resultado == 0):\n",
        "  print(\"Empate\")\n",
        "elif (resultado<3):\n",
        "  print(\"El jugador gana\")\n",
        "else:\n",
        "  print(\"La computadora gana\")\n"
      ],
      "metadata": {
        "colab": {
          "base_uri": "https://localhost:8080/"
        },
        "id": "dkP3TM118YqX",
        "outputId": "8137bca5-c827-499a-e868-f0899b9bb937"
      },
      "execution_count": 12,
      "outputs": [
        {
          "output_type": "stream",
          "name": "stdout",
          "text": [
            "Piedra= 0, Tijeras= 1, Lagarto= 2, Papel= 3, Spock=4\n",
            "Elige una opcion: 4\n",
            "jugador: Spock Compu: Piedra\n",
            "El jugador gana\n"
          ]
        }
      ]
    },
    {
      "cell_type": "code",
      "source": [
        "'''import tkinter as tk\n",
        "#crear ventanas\n",
        "\n",
        "miVentana=tk.Tk()\n",
        "miVentana.geometry('1024x768+250+50')\n",
        "mensaje= tk.Label(text=\"Este programa es un ejemplo\")\n",
        "mensaje.pack()\n",
        "entrada = tk.Entry()\n",
        "entrada.pack()\n",
        "boton1 = tk.Button(text=\"Procesa\", width=25,height=2, command=saludar)\n",
        "boton1.pack()\n",
        "miVentana.mainloop()"
      ],
      "metadata": {
        "id": "iWebP6QRMihd"
      },
      "execution_count": null,
      "outputs": []
    }
  ]
}