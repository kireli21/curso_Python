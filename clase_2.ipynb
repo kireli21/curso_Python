{
  "nbformat": 4,
  "nbformat_minor": 0,
  "metadata": {
    "colab": {
      "name": "clase 2",
      "provenance": [],
      "authorship_tag": "ABX9TyOdSBCGlMzJJm5XFF2T7LkK",
      "include_colab_link": true
    },
    "kernelspec": {
      "name": "python3",
      "display_name": "Python 3"
    },
    "language_info": {
      "name": "python"
    }
  },
  "cells": [
    {
      "cell_type": "markdown",
      "metadata": {
        "id": "view-in-github",
        "colab_type": "text"
      },
      "source": [
        "<a href=\"https://colab.research.google.com/github/kireli21/curso_Python/blob/main/clase_2.ipynb\" target=\"_parent\"><img src=\"https://colab.research.google.com/assets/colab-badge.svg\" alt=\"Open In Colab\"/></a>"
      ]
    },
    {
      "cell_type": "code",
      "execution_count": null,
      "metadata": {
        "id": "1jsCuRS6Tx1G"
      },
      "outputs": [],
      "source": [
        "if (3>2):\n",
        "  print(\"Es mayor\")\n",
        "\n",
        "a=5\n",
        "b=4\n",
        "\n",
        "if (a>b):\n",
        "  print(\"La condicion se cumple\")\n",
        "else:\n",
        "  print(\"La condicion no se cumple\")\n",
        "\n",
        "#imprimir los divisibles entre 3\n",
        "for c in range(20):\n",
        "  if ((c%3)==0):\n",
        "    print(c)\n",
        "\n",
        "\n",
        "'''dato1 = float(input(\"Escribe tu dato 1: \"))\n",
        "dato2 = float(input(\"Escribe tu dato 2: \"))\n",
        "print(\"la suma es:\",dato1+dato2)'''\n",
        "\n"
      ]
    },
    {
      "cell_type": "code",
      "source": [
        "def double(algo):\n",
        "  print(algo*2)\n",
        "\n",
        "double(3)\n",
        "\n",
        "print(\"  \")\n",
        "\n",
        "def esPar(n):\n",
        "  return (n%2)==0\n",
        "\n",
        "for d in range(20):\n",
        "  a = esPar(d) and (d>3) and (d<15)\n",
        "  b = not(d==10)\n",
        "  if a and b:\n",
        "    print(d)"
      ],
      "metadata": {
        "colab": {
          "base_uri": "https://localhost:8080/"
        },
        "id": "qkEjFSK8hT56",
        "outputId": "a728a393-ca8e-4825-a335-223f6a5c5546"
      },
      "execution_count": 40,
      "outputs": [
        {
          "output_type": "stream",
          "name": "stdout",
          "text": [
            "6\n",
            "  \n",
            "4\n",
            "6\n",
            "8\n",
            "12\n",
            "14\n"
          ]
        }
      ]
    },
    {
      "cell_type": "code",
      "source": [
        "def mayor2(a,b):\n",
        "  if (a>b):\n",
        "    return a\n",
        "  else:\n",
        "    return b\n",
        "\n",
        "print(mayor2(5,23))\n",
        "print(\"   \")\n",
        "\n",
        "def mayor3(a,b,c):\n",
        "  if (a>b):\n",
        "    if (a>c):\n",
        "      return a\n",
        "    else:\n",
        "      if (c>b):\n",
        "        return c\n",
        "      else:\n",
        "        return a\n",
        "  else:\n",
        "    if (b>c):\n",
        "      return b\n",
        "    else:\n",
        "      if (c>a):\n",
        "        return c\n",
        "      else:\n",
        "        return b\n",
        "\n",
        "#mayor2(mayor2(a,b), mayor2(b,c))\n",
        "\n",
        "print(mayor3(5,3,4))\n",
        "print(mayor3(5,3,3))\n",
        "print(mayor3(5,3,5))\n"
      ],
      "metadata": {
        "id": "PQ3zcxgcjaaV"
      },
      "execution_count": null,
      "outputs": []
    },
    {
      "cell_type": "code",
      "source": [
        "import math\n",
        "a=2\n",
        "b=math.sqrt(a)# raiz\n",
        "print(b)\n",
        "\n",
        "c = 60\n",
        "c=math.radians(c) #Para sacar grado\n",
        "d = math.cos(c) #Trabaja por defecto radianes\n",
        "print(d)"
      ],
      "metadata": {
        "colab": {
          "base_uri": "https://localhost:8080/"
        },
        "id": "-XYd16RMoS7W",
        "outputId": "53b7cf9e-eb56-4769-d952-474db8857260"
      },
      "execution_count": 67,
      "outputs": [
        {
          "output_type": "stream",
          "name": "stdout",
          "text": [
            "1.4142135623730951\n",
            "0.5000000000000001\n"
          ]
        }
      ]
    },
    {
      "cell_type": "code",
      "source": [
        "suma = 0.0\n",
        "n = 10\n",
        "for c in range(n):\n",
        "  suma = suma + 1/n\n",
        "\n",
        "if suma == 1.0:\n",
        "  print(\"La suma es 1!!\")\n",
        "else:\n",
        "  print(\"la suma no es 1!!!!!!!\")"
      ],
      "metadata": {
        "colab": {
          "base_uri": "https://localhost:8080/"
        },
        "id": "gBnv3ISfqYp3",
        "outputId": "74e12449-f509-48df-f942-f5c0669291f8"
      },
      "execution_count": 79,
      "outputs": [
        {
          "output_type": "stream",
          "name": "stdout",
          "text": [
            "la suma no es 1!!!!!!!\n"
          ]
        }
      ]
    },
    {
      "cell_type": "code",
      "source": [
        "import time\n",
        "import random\n",
        "\n",
        "lista = []\n",
        "n = 23\n",
        "\n",
        "while len(lista)<n:\n",
        "  a = random.randint(0,n)\n",
        "  #print(a)\n",
        "  if not(a in lista):\n",
        "    lista.append(a)\n",
        "\n",
        "print(\"lista desordenada\")\n",
        "print(lista)\n",
        "inicio = time.time()\n",
        "print(\"lista ordenada\")\n",
        "for c2 in range(n):\n",
        "  for c in range(n-1):\n",
        "    if lista[c]>lista[c+1]:\n",
        "      temp = lista[c]\n",
        "      lista[c] = lista[c+1]\n",
        "      lista[c+1] = temp\n",
        "\n",
        "fin = time.time()\n",
        "print(\"tiempo:\", fin-inicio)\n",
        "print(lista)"
      ],
      "metadata": {
        "id": "Xj52fMC4xnMJ"
      },
      "execution_count": null,
      "outputs": []
    },
    {
      "cell_type": "code",
      "source": [
        "a = [0,1,2,3,4,5,6,7,8,9]\n",
        "b = [0,2,4,6,8]\n",
        "\n",
        "c = []\n",
        "\n",
        "for e in a:\n",
        "  if not(e in b):\n",
        "    c.append(e)\n",
        "\n",
        "d = list(set(a)-set(b))\n",
        "print(c)\n",
        "print(d)\n",
        "\n",
        "e = [1,2,3,3,4,5,6,5,4,3,2,1]\n",
        "e = list(set(e))\n",
        "print(e)"
      ],
      "metadata": {
        "colab": {
          "base_uri": "https://localhost:8080/"
        },
        "id": "lH-h5J6Y6_Sa",
        "outputId": "6ad806fe-1885-48ce-ec9e-f637b12e9dd3"
      },
      "execution_count": 105,
      "outputs": [
        {
          "output_type": "stream",
          "name": "stdout",
          "text": [
            "[1, 3, 5, 7, 9]\n",
            "[1, 3, 5, 7, 9]\n",
            "[1, 2, 3, 4, 5, 6]\n"
          ]
        }
      ]
    }
  ]
}